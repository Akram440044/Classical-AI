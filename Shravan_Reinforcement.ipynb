{
  "cells": [
    {
      "cell_type": "markdown",
      "source": [
        "> Tic-Tac-Toe using Reinforcement learning"
      ],
      "metadata": {
        "id": "C7TKE26HNtoD"
      }
    },
    {
      "cell_type": "code",
      "source": [
        "import json"
      ],
      "metadata": {
        "id": "ZvFD0SoQt8I3"
      },
      "execution_count": 23,
      "outputs": []
    },
    {
      "cell_type": "code",
      "execution_count": 24,
      "metadata": {
        "id": "zgtboLzg8q0m"
      },
      "outputs": [],
      "source": [
        "def isTerminal(state):\n",
        "    combinations = [(0, 1, 2), (3, 4, 5), (6, 7, 8),  # Rows\n",
        "                    (0, 3, 6), (1, 4, 7), (2, 5, 8),  # Columns\n",
        "                    (0, 4, 8), (2, 4, 6)]             # Diagonals\n",
        "\n",
        "    for combo in combinations:\n",
        "        if state[combo[0]] == state[combo[1]] == state[combo[2]] == 'X':\n",
        "            return True, 1                            # It's a win\n",
        "        elif state[combo[0]] == state[combo[1]] == state[combo[2]] == 'O':\n",
        "            return True, -1                           # It's a loss\n",
        "    if state.count('_') == 0:\n",
        "        return True, 0                                # Draw\n",
        "    else:\n",
        "        return False, 0                               # not a terminal state"
      ]
    },
    {
      "cell_type": "code",
      "execution_count": 25,
      "metadata": {
        "id": "czZ1ikB18q0m"
      },
      "outputs": [],
      "source": [
        "def determineTurn(state):\n",
        "    \"\"\"Return X if it's max's turn otherwise O.\"\"\"\n",
        "    num = state.count('_')\n",
        "    if num % 2 != 0:\n",
        "        return 'X'\n",
        "    else:\n",
        "        return 'O'"
      ]
    },
    {
      "cell_type": "code",
      "execution_count": 26,
      "metadata": {
        "id": "nW_0yALC8q0k"
      },
      "outputs": [],
      "source": [
        "def toString(statelst):\n",
        "    \"\"\"Convert the statelst(list) into a string\"\"\"\n",
        "    s = ''  # initialize\n",
        "    for i in statelst:\n",
        "        s += i\n",
        "    return s"
      ]
    },
    {
      "cell_type": "code",
      "execution_count": 27,
      "metadata": {
        "id": "IyvrgX-u8q0m"
      },
      "outputs": [],
      "source": [
        "childParent = {}         # child as key, parent as value\n",
        "terminals = []           # all the terminals\n",
        "tree = {}                # game tree(nodes as keys, children as value)\n",
        "stateScores = {}         # Storing scores of every state and turn of player\n",
        "def generateTree(state):\n",
        "    strState = toString(state)\n",
        "    tree[strState] = []\n",
        "    turn = determineTurn(state)\n",
        "\n",
        "    if not isTerminal(state)[0]:\n",
        "        for i in range(9):\n",
        "            cState = state.copy()                            # copy for temparary use\n",
        "            if state[i] == '_':\n",
        "                cState[i] = turn\n",
        "                cStateStr = toString(cState)                 # convert state into string\n",
        "                tree[strState].append(cStateStr)             # add the state to tree\n",
        "\n",
        "                if cStateStr not in childParent.keys():\n",
        "                    childParent[cStateStr] = []              # add to childParent\n",
        "\n",
        "                if strState not in childParent[cStateStr]:\n",
        "                    childParent[cStateStr].append(strState)  # update childParent\n",
        "                score = isTerminal(cStateStr)[1]\n",
        "                stateScores[cStateStr] = score               # add score and turn\n",
        "                generateTree(cState)                         # recursive call (DFS)\n",
        "    else:\n",
        "        if strState not in terminals:                        # adding state to terminals\n",
        "            terminals.append(strState)\n",
        "\n",
        "generateTree(['_']*9)                                        # initial call\n",
        "childParent['_________'] = [None]                            # parent of initial state\n",
        "stateScores['_________'] = 0                                 # score and turn for initial state"
      ]
    },
    {
      "cell_type": "code",
      "execution_count": 28,
      "metadata": {
        "id": "CcxShaM58q0n"
      },
      "outputs": [],
      "source": [
        "alpha = 0.41\n",
        "def _helperUpdateValues(state, s1 = 0):\n",
        "    global alpha\n",
        "    s1 = stateScores[state]\n",
        "    if state != '_________':\n",
        "      parents = childParent[state]\n",
        "      for parent in parents:\n",
        "          s = stateScores[parent]\n",
        "          value = s + alpha*(s1 - s)\n",
        "          stateScores[parent] = value\n",
        "          _helperUpdateValues(parent, s1)         # recursive call\n",
        "\n",
        "def updateValues():\n",
        "    for terminal in terminals*200:\n",
        "        _helperUpdateValues(terminal)\n",
        "updateValues()"
      ]
    },
    {
      "cell_type": "code",
      "source": [
        "# Storing the tree in a json file\n",
        "jsonContent = {\n",
        "    \"tree\": tree,\n",
        "    \"scores\": stateScores\n",
        "}\n",
        "jsonData = json.dumps(jsonContent, indent=2)\n",
        "with open('reinforcement.json', 'w') as json_file:\n",
        "  json_file.write(jsonData)"
      ],
      "metadata": {
        "id": "g_G8C0g_uO5S"
      },
      "execution_count": 29,
      "outputs": []
    },
    {
      "cell_type": "code",
      "execution_count": 30,
      "metadata": {
        "id": "hZYQzK2r8q0n"
      },
      "outputs": [],
      "source": [
        "def findMove(state):\n",
        "    \"\"\"Return the index of the best move of the computer.\"\"\"\n",
        "    state = toString(state)\n",
        "    children = tree[state]\n",
        "    scores = {}\n",
        "    for i in children:\n",
        "        scores[stateScores[i]] = i\n",
        "    action = scores[min(scores.keys())]\n",
        "    for i in range(9):\n",
        "      if state[i] == '_' and action[i] != '_':\n",
        "          return i"
      ]
    },
    {
      "cell_type": "code",
      "execution_count": 31,
      "metadata": {
        "id": "PCLJQMK18q0o"
      },
      "outputs": [],
      "source": [
        "def _PrintGame(state):\n",
        "    \"\"\"Display the state given on the board\"\"\"\n",
        "    for i in range(0, 9, 3):\n",
        "      print(f\"| {state[i]} | {state[i+1]} | {state[i+2]} |\")\n",
        "    print(\" \")"
      ]
    },
    {
      "cell_type": "code",
      "source": [
        "def _declareResult(state):\n",
        "    \"\"\"prints the final result\"\"\"\n",
        "    terminalvalue = isTerminal(state)\n",
        "    if terminalvalue[1] == -1:                       # machine won\n",
        "        print(\"You Lost\")\n",
        "    elif terminalvalue[1] == 1:                      # player won\n",
        "        print(\"Congratulations! You won\")\n",
        "    elif terminalvalue[0] and terminalvalue[1] == 0: # ended in draw\n",
        "        print(\"Its a draw\")"
      ],
      "metadata": {
        "id": "ywrR47diR4VX"
      },
      "execution_count": 32,
      "outputs": []
    },
    {
      "cell_type": "code",
      "execution_count": 36,
      "metadata": {
        "id": "BypYYk-h8q0o",
        "colab": {
          "base_uri": "https://localhost:8080/"
        },
        "outputId": "685d7c11-86ac-4b7c-8b9e-864a1080c44a"
      },
      "outputs": [
        {
          "output_type": "stream",
          "name": "stdout",
          "text": [
            "| _ | _ | _ |\n",
            "| _ | _ | _ |\n",
            "| _ | _ | _ |\n",
            " \n",
            "Enter the move position(1,2,3,4,5,6,7,8,9): 5\n",
            "| _ | _ | _ |\n",
            "| _ | X | _ |\n",
            "| O | _ | _ |\n",
            " \n",
            "Enter the move position(1,2,3,4,5,6,7,8,9): 3\n",
            "| _ | _ | X |\n",
            "| _ | X | _ |\n",
            "| O | _ | O |\n",
            " \n",
            "Enter the move position(1,2,3,4,5,6,7,8,9): 1\n",
            "| X | _ | X |\n",
            "| _ | X | _ |\n",
            "| O | O | O |\n",
            " \n",
            "You Lost\n"
          ]
        }
      ],
      "source": [
        "def Play():\n",
        "    \"\"\"Function to play the above trained game using minmax algo\"\"\"\n",
        "    state = ['_']*9                                  # initial state\n",
        "    _PrintGame(state)                                # prints initial board game\n",
        "    userTurn = True                                  # true if it's players turn\n",
        "    indices = []                                     # played moves indices\n",
        "    while not(isTerminal(state)[0]):\n",
        "        if userTurn:\n",
        "            try:\n",
        "              index = int(input(\"Enter the move position(1,2,3,4,5,6,7,8,9): \"))-1\n",
        "            except:\n",
        "              index = int(input(\"Please enter a valid integer: \"))-1\n",
        "            # asks for valid input till it is entered\n",
        "            while index in indices:\n",
        "              index = int(input(\"Please enter a valid(empty) position: \"))-1\n",
        "            indices.append(index)\n",
        "            state[index] = 'X'\n",
        "            userTurn = False\n",
        "        else:\n",
        "            index = findMove(state)\n",
        "            indices.append(index)\n",
        "            state[index] = 'O'\n",
        "            userTurn = True\n",
        "            _PrintGame(state)\n",
        "        _declareResult(state)\n",
        "Play()"
      ]
    }
  ],
  "metadata": {
    "colab": {
      "provenance": []
    },
    "kaggle": {
      "accelerator": "none",
      "dataSources": [],
      "dockerImageVersionId": 30587,
      "isGpuEnabled": false,
      "isInternetEnabled": false,
      "language": "python",
      "sourceType": "notebook"
    },
    "kernelspec": {
      "display_name": "Python 3",
      "language": "python",
      "name": "python3"
    },
    "language_info": {
      "codemirror_mode": {
        "name": "ipython",
        "version": 3
      },
      "file_extension": ".py",
      "mimetype": "text/x-python",
      "name": "python",
      "nbconvert_exporter": "python",
      "pygments_lexer": "ipython3",
      "version": "3.10.12"
    }
  },
  "nbformat": 4,
  "nbformat_minor": 0
}