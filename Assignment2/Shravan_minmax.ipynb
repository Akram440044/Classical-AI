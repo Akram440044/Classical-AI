{
  "cells": [
    {
      "cell_type": "markdown",
      "source": [
        "> Tic-Tac-Toe game using MinMax Algorithm"
      ],
      "metadata": {
        "id": "fHxOnBQ-d6PE"
      }
    },
    {
      "cell_type": "code",
      "source": [
        "import json"
      ],
      "metadata": {
        "id": "y6AUob6ZvXD-"
      },
      "execution_count": 2,
      "outputs": []
    },
    {
      "cell_type": "code",
      "source": [
        "def isTerminal(state):\n",
        "    combinations = [(0, 1, 2), (3, 4, 5), (6, 7, 8),  # Rows\n",
        "                    (0, 3, 6), (1, 4, 7), (2, 5, 8),  # Columns\n",
        "                    (0, 4, 8), (2, 4, 6)]             # Diagonals\n",
        "\n",
        "    for combo in combinations:\n",
        "        if state[combo[0]] == state[combo[1]] == state[combo[2]] == 'X':\n",
        "            return True, 1                            # It's a win\n",
        "        elif state[combo[0]] == state[combo[1]] == state[combo[2]] == 'O':\n",
        "            return True, -1                           # It's a loss\n",
        "    if state.count('_') == 0:\n",
        "        return True, 0                                # Draw\n",
        "    else:\n",
        "        return False, 0                               # not a terminal state"
      ],
      "metadata": {
        "id": "DG0VUPa6GzLP"
      },
      "execution_count": 3,
      "outputs": []
    },
    {
      "cell_type": "code",
      "source": [
        "def determineTurn(state):\n",
        "    \"\"\"Return X if it's max's turn otherwise O.\"\"\"\n",
        "    num = state.count('_')\n",
        "    if num % 2 != 0:\n",
        "        return 'X'\n",
        "    else:\n",
        "        return 'O'"
      ],
      "metadata": {
        "id": "rdBU86w9e5R5"
      },
      "execution_count": 4,
      "outputs": []
    },
    {
      "cell_type": "code",
      "execution_count": 5,
      "metadata": {
        "execution": {
          "iopub.execute_input": "2023-11-28T04:36:56.757890Z",
          "iopub.status.busy": "2023-11-28T04:36:56.757117Z",
          "iopub.status.idle": "2023-11-28T04:36:56.762435Z",
          "shell.execute_reply": "2023-11-28T04:36:56.761397Z",
          "shell.execute_reply.started": "2023-11-28T04:36:56.757852Z"
        },
        "trusted": true,
        "id": "XEIQBZHn0Lhq"
      },
      "outputs": [],
      "source": [
        "def toString(statelst):\n",
        "    \"\"\"Convert the statelst(list) into a string\"\"\"\n",
        "    s = ''  # initialize\n",
        "    for i in statelst:\n",
        "        s += i\n",
        "    return s"
      ]
    },
    {
      "cell_type": "markdown",
      "source": [
        "> Creating Game tree"
      ],
      "metadata": {
        "id": "vvK6GDV-JHXL"
      }
    },
    {
      "cell_type": "code",
      "execution_count": 6,
      "metadata": {
        "execution": {
          "iopub.execute_input": "2023-11-28T04:37:04.271495Z",
          "iopub.status.busy": "2023-11-28T04:37:04.270513Z",
          "iopub.status.idle": "2023-11-28T04:37:11.166084Z",
          "shell.execute_reply": "2023-11-28T04:37:11.164939Z",
          "shell.execute_reply.started": "2023-11-28T04:37:04.271452Z"
        },
        "trusted": true,
        "id": "viuhw7b30Lh2"
      },
      "outputs": [],
      "source": [
        "childParent = {}         # child as key, parent as value\n",
        "terminals = []           # all the terminals\n",
        "tree = {}                # game tree(nodes as keys, children as value)\n",
        "stateScores = {}         # Storing scores of every state and turn of player\n",
        "def generateTree(state):\n",
        "    strState = toString(state)\n",
        "    tree[strState] = []\n",
        "    turn = determineTurn(state)\n",
        "\n",
        "    if not isTerminal(state)[0]:\n",
        "        for i in range(9):\n",
        "            cState = state.copy()                            # copy for temparary use\n",
        "            if state[i] == '_':\n",
        "                cState[i] = turn\n",
        "                cStateStr = toString(cState)                 # convert state into string\n",
        "                tree[strState].append(cStateStr)             # add the state to tree\n",
        "\n",
        "                if cStateStr not in childParent.keys():\n",
        "                    childParent[cStateStr] = []              # add to childParent\n",
        "\n",
        "                if strState not in childParent[cStateStr]:\n",
        "                    childParent[cStateStr].append(strState)  # update childParent\n",
        "                score = isTerminal(cStateStr)[1]\n",
        "                stateScores[cStateStr] = [score, turn]       # add score and turn\n",
        "                generateTree(cState)                         # recursive call (DFS)\n",
        "    else:\n",
        "        if strState not in terminals:                        # adding state to terminals\n",
        "            terminals.append(strState)\n",
        "\n",
        "generateTree(['_']*9)                                        # initial call\n",
        "childParent['_________'] = [None]                            # parent of initial state\n",
        "stateScores['_________'] = [0, 'X']                          # score and turn for initial state"
      ]
    },
    {
      "cell_type": "code",
      "execution_count": 7,
      "metadata": {
        "execution": {
          "iopub.execute_input": "2023-11-28T04:38:13.512438Z",
          "iopub.status.busy": "2023-11-28T04:38:13.512039Z",
          "iopub.status.idle": "2023-11-28T04:38:40.211411Z",
          "shell.execute_reply": "2023-11-28T04:38:40.210072Z",
          "shell.execute_reply.started": "2023-11-28T04:38:13.512401Z"
        },
        "trusted": true,
        "id": "Eu5fWkib0Lh4"
      },
      "outputs": [],
      "source": [
        "def _helperUpdateValues(parents):\n",
        "    while parents[0] is not None:\n",
        "        for j in parents:\n",
        "            scores = []\n",
        "            children = tree[j]\n",
        "            for k in children:\n",
        "                scores.append(stateScores[k][0])\n",
        "            if stateScores[j][1] == 'X':\n",
        "                stateScores[j][0] = min(scores)\n",
        "            else:\n",
        "                stateScores[j][0] = max(scores)\n",
        "            parents = childParent[j]        # find its parent(update parent)\n",
        "            _helperUpdateValues(parents)    # recursive call\n",
        "\n",
        "def updateValues():\n",
        "    \"\"\"Update values of the states\"\"\"\n",
        "    for i in terminals:\n",
        "        parents = childParent[i]            # Accessing all the parents\n",
        "        _helperUpdateValues(parents)\n",
        "\n",
        "updateValues()"
      ]
    },
    {
      "cell_type": "code",
      "source": [
        "# Storing the tree in a json file\n",
        "jsonContent = {\n",
        "    \"tree\": tree,\n",
        "    \"scores\": stateScores\n",
        "}\n",
        "jsonData = json.dumps(jsonContent, indent=2)\n",
        "with open('minmax.json', 'w') as json_file:\n",
        "  json_file.write(jsonData)"
      ],
      "metadata": {
        "id": "EaBBGZdtvUGq"
      },
      "execution_count": 8,
      "outputs": []
    },
    {
      "cell_type": "code",
      "execution_count": 9,
      "metadata": {
        "execution": {
          "iopub.execute_input": "2023-11-28T04:41:26.594162Z",
          "iopub.status.busy": "2023-11-28T04:41:26.593618Z",
          "iopub.status.idle": "2023-11-28T04:41:26.602324Z",
          "shell.execute_reply": "2023-11-28T04:41:26.601163Z",
          "shell.execute_reply.started": "2023-11-28T04:41:26.594124Z"
        },
        "trusted": true,
        "id": "kpy45sQ50Lh5"
      },
      "outputs": [],
      "source": [
        "def findMove(state):\n",
        "    \"\"\"Return the index of the best move of the computer.\"\"\"\n",
        "    state = toString(state)\n",
        "    children = tree[state]                   # find children\n",
        "    scoreChild = {}                          # scores as keys, children states as values\n",
        "    for i in children:\n",
        "        scoreChild[stateScores[i][0]] = i\n",
        "\n",
        "    minScore = min(scoreChild.keys())        # minimum score among all children\n",
        "    desired_state = scoreChild[minScore]     # state with min value\n",
        "    for i in range(9):\n",
        "        if state[i] == '_' and desired_state[i] != '_':\n",
        "            return i"
      ]
    },
    {
      "cell_type": "code",
      "execution_count": 10,
      "metadata": {
        "execution": {
          "iopub.execute_input": "2023-11-28T04:41:33.552161Z",
          "iopub.status.busy": "2023-11-28T04:41:33.551766Z",
          "iopub.status.idle": "2023-11-28T04:41:33.559493Z",
          "shell.execute_reply": "2023-11-28T04:41:33.558170Z",
          "shell.execute_reply.started": "2023-11-28T04:41:33.552129Z"
        },
        "trusted": true,
        "id": "-NOzw1g80Lh7"
      },
      "outputs": [],
      "source": [
        "def _PrintGame(state):\n",
        "    \"\"\"Display the state given on the board\"\"\"\n",
        "    for i in range(0, 9, 3):\n",
        "      print(f\"| {state[i]} | {state[i+1]} | {state[i+2]} |\")\n",
        "    print(\" \")"
      ]
    },
    {
      "cell_type": "code",
      "source": [
        "def _declareResult(state):\n",
        "    \"\"\"prints the final result\"\"\"\n",
        "    terminalvalue = isTerminal(state)\n",
        "    if terminalvalue[1] == -1:                       # machine won\n",
        "        print(\"You Lost\")\n",
        "    elif terminalvalue[1] == 1:                      # player won\n",
        "        print(\"Congratulations! You won\")\n",
        "    elif terminalvalue[0] and terminalvalue[1] == 0: # ended in draw\n",
        "        print(\"Its a draw\")\n"
      ],
      "metadata": {
        "id": "aLgfLcXTmaha"
      },
      "execution_count": 11,
      "outputs": []
    },
    {
      "cell_type": "code",
      "execution_count": 12,
      "metadata": {
        "execution": {
          "iopub.execute_input": "2023-11-28T04:49:29.739643Z",
          "iopub.status.busy": "2023-11-28T04:49:29.739204Z",
          "iopub.status.idle": "2023-11-28T04:49:29.749396Z",
          "shell.execute_reply": "2023-11-28T04:49:29.747880Z",
          "shell.execute_reply.started": "2023-11-28T04:49:29.739599Z"
        },
        "trusted": true,
        "id": "N6RciOzL0Lh8",
        "colab": {
          "base_uri": "https://localhost:8080/"
        },
        "outputId": "7816315e-95a4-4f41-abd7-f953453c6ae9"
      },
      "outputs": [
        {
          "output_type": "stream",
          "name": "stdout",
          "text": [
            "| _ | _ | _ |\n",
            "| _ | _ | _ |\n",
            "| _ | _ | _ |\n",
            " \n",
            "Enter the move position(1,2,3,4,5,6,7,8,9): 2\n",
            "| _ | X | _ |\n",
            "| _ | _ | _ |\n",
            "| _ | O | _ |\n",
            " \n",
            "Enter the move position(1,2,3,4,5,6,7,8,9): 6\n",
            "| _ | X | O |\n",
            "| _ | _ | X |\n",
            "| _ | O | _ |\n",
            " \n",
            "Enter the move position(1,2,3,4,5,6,7,8,9): 1\n",
            "| X | X | O |\n",
            "| _ | _ | X |\n",
            "| O | O | _ |\n",
            " \n",
            "Enter the move position(1,2,3,4,5,6,7,8,9): 5\n",
            "| X | X | O |\n",
            "| _ | X | X |\n",
            "| O | O | O |\n",
            " \n",
            "You Lost\n"
          ]
        }
      ],
      "source": [
        "def Play():\n",
        "    \"\"\"Function to play the above trained game using minmax algo\"\"\"\n",
        "    state = ['_']*9                                  # initial state\n",
        "    _PrintGame(state)                                # prints initial board game\n",
        "    userTurn = True                                  # true if it's players turn\n",
        "    indices = []                                     # played moves indices\n",
        "    while not(isTerminal(state)[0]):\n",
        "        if userTurn:\n",
        "            try:\n",
        "              index = int(input(\"Enter the move position(1,2,3,4,5,6,7,8,9): \"))-1\n",
        "            except:\n",
        "              index = int(input(\"Please enter a valid integer: \"))-1\n",
        "            # asks for valid input till it is entered\n",
        "            while index in indices:\n",
        "              index = int(input(\"Please enter a valid(empty) position: \"))-1\n",
        "            indices.append(index)\n",
        "            state[index] = 'X'\n",
        "            userTurn = False\n",
        "        else:\n",
        "            index = findMove(state)\n",
        "            indices.append(index)\n",
        "            state[index] = 'O'\n",
        "            userTurn = True\n",
        "            _PrintGame(state)\n",
        "        _declareResult(state)\n",
        "\n",
        "Play()"
      ]
    }
  ],
  "metadata": {
    "kaggle": {
      "accelerator": "none",
      "dataSources": [],
      "dockerImageVersionId": 30587,
      "isGpuEnabled": false,
      "isInternetEnabled": false,
      "language": "python",
      "sourceType": "notebook"
    },
    "kernelspec": {
      "display_name": "Python 3",
      "language": "python",
      "name": "python3"
    },
    "language_info": {
      "codemirror_mode": {
        "name": "ipython",
        "version": 3
      },
      "file_extension": ".py",
      "mimetype": "text/x-python",
      "name": "python",
      "nbconvert_exporter": "python",
      "pygments_lexer": "ipython3",
      "version": "3.10.12"
    },
    "colab": {
      "provenance": []
    }
  },
  "nbformat": 4,
  "nbformat_minor": 0
}